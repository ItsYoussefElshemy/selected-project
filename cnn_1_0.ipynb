{
  "nbformat": 4,
  "nbformat_minor": 0,
  "metadata": {
    "colab": {
      "provenance": [],
      "gpuType": "T4",
      "mount_file_id": "1UoucJoLjlmig3cOByLSzekZ9Dltii3XE",
      "authorship_tag": "ABX9TyNLrZa9lHlSrLNsTXbI/MiB",
      "include_colab_link": true
    },
    "kernelspec": {
      "name": "python3",
      "display_name": "Python 3"
    },
    "language_info": {
      "name": "python"
    },
    "gpuClass": "standard",
    "accelerator": "GPU"
  },
  "cells": [
    {
      "cell_type": "markdown",
      "metadata": {
        "id": "view-in-github",
        "colab_type": "text"
      },
      "source": [
        "<a href=\"https://colab.research.google.com/github/ItsYoussefElshemy/selected-project/blob/main/cnn_1_0.ipynb\" target=\"_parent\"><img src=\"https://colab.research.google.com/assets/colab-badge.svg\" alt=\"Open In Colab\"/></a>"
      ]
    },
    {
      "cell_type": "code",
      "execution_count": 102,
      "metadata": {
        "colab": {
          "base_uri": "https://localhost:8080/"
        },
        "id": "_nwx1CZ3WzXk",
        "outputId": "79d29532-dc31-4010-b91f-246ce510d954"
      },
      "outputs": [
        {
          "output_type": "stream",
          "name": "stdout",
          "text": [
            "Archive:  /content/drive/MyDrive/archive.zip\n",
            "replace Arabic Handwritten Characters/Test Images 3360x32x32/╪г/id_1009_label_1.png? [y]es, [n]o, [A]ll, [N]one, [r]ename: "
          ]
        }
      ],
      "source": [
        "!unzip /content/drive/MyDrive/archive.zip"
      ]
    },
    {
      "cell_type": "code",
      "source": [
        "import cv2\n",
        "import matplotlib.pyplot as plt\n",
        "import os\n",
        "import pandas as pd\n",
        "import numpy as np\n",
        "from keras.preprocessing.image import ImageDataGenerator\n",
        "%matplotlib inline"
      ],
      "metadata": {
        "id": "RYS6ywPQYw2G"
      },
      "execution_count": 103,
      "outputs": []
    },
    {
      "cell_type": "code",
      "source": [
        "img_dim = 32\n",
        "CLASSES = sorted([\"أ\",\"ب\",\"ت\",\"ث\",\"ج\",\"ح\",\"خ\",\"د\",\"ذ\",\"ر\",\"ز\",\"س\",\"ش\",\"ص\",\"ض\",\"ط\",\"ظ\",\"ع\",\"غ\",\"ف\",\"ق\",\"ك\",\"ل\",\"م\",\"ن\",\"ه\",\"و\",\"ي\"])\n",
        "train_gen = ImageDataGenerator().flow_from_directory('/content/Arabic Handwritten Characters/Train Images 13440x32x32',target_size=(img_dim, img_dim))\n",
        "val_gen = ImageDataGenerator().flow_from_directory('/content/Arabic Handwritten Characters/Test Images 3360x32x32',target_size=(img_dim, img_dim))\n",
        "test_gen = ImageDataGenerator().flow_from_directory('/content/Arabic Handwritten Characters/Test Images 3360x32x32',target_size=(img_dim, img_dim))"
      ],
      "metadata": {
        "colab": {
          "base_uri": "https://localhost:8080/"
        },
        "id": "gwmtzPjzZJZA",
        "outputId": "104e5d8f-dd1b-455b-ef59-e373a4cb281b"
      },
      "execution_count": 104,
      "outputs": [
        {
          "output_type": "stream",
          "name": "stdout",
          "text": [
            "Found 13440 images belonging to 28 classes.\n",
            "Found 3360 images belonging to 28 classes.\n",
            "Found 3360 images belonging to 28 classes.\n"
          ]
        }
      ]
    },
    {
      "cell_type": "code",
      "source": [
        "import tensorflow as tf\n",
        "from  keras.models import Sequential\n",
        "from keras.layers import Conv2D, MaxPool2D, GlobalAvgPool2D, Dense, Flatten , Dropout , InputLayer, BatchNormalization\n",
        "from keras.optimizers import Adam\n",
        "\n",
        "#VGG16 \n",
        "\n",
        "model = Sequential()\n",
        "\n",
        "model.add(Conv2D(input_shape=(img_dim,img_dim,3),filters=64,kernel_size=(3,3),padding=\"same\", activation=\"relu\"))\n",
        "model.add(Conv2D(filters=64,kernel_size=(3,3),padding=\"same\", activation=\"relu\"))\n",
        "model.add(BatchNormalization())\n",
        "model.add(MaxPool2D(pool_size=(2,2),strides=(2,2)))\n",
        "model.add(Conv2D(filters=128, kernel_size=(3,3), padding=\"same\", activation=\"relu\"))\n",
        "model.add(Conv2D(filters=128, kernel_size=(3,3), padding=\"same\", activation=\"relu\"))\n",
        "model.add(BatchNormalization())\n",
        "model.add(MaxPool2D(pool_size=(2,2),strides=(2,2)))\n",
        "model.add(Conv2D(filters=256, kernel_size=(3,3), padding=\"same\", activation=\"relu\"))\n",
        "model.add(Conv2D(filters=256, kernel_size=(3,3), padding=\"same\", activation=\"relu\"))\n",
        "model.add(Conv2D(filters=256, kernel_size=(3,3), padding=\"same\", activation=\"relu\"))\n",
        "model.add(BatchNormalization())\n",
        "model.add(MaxPool2D(pool_size=(2,2),strides=(2,2)))\n",
        "model.add(Conv2D(filters=512, kernel_size=(3,3), padding=\"same\", activation=\"relu\"))\n",
        "model.add(Conv2D(filters=512, kernel_size=(3,3), padding=\"same\", activation=\"relu\"))\n",
        "model.add(Conv2D(filters=512, kernel_size=(3,3), padding=\"same\", activation=\"relu\"))\n",
        "model.add(BatchNormalization())\n",
        "model.add(MaxPool2D(pool_size=(2,2),strides=(2,2)))\n",
        "model.add(Conv2D(filters=512, kernel_size=(3,3), padding=\"same\", activation=\"relu\"))\n",
        "model.add(Conv2D(filters=512, kernel_size=(3,3), padding=\"same\", activation=\"relu\"))\n",
        "model.add(Conv2D(filters=512, kernel_size=(3,3), padding=\"same\", activation=\"relu\", name='last_conv'))\n",
        "model.add(BatchNormalization())\n",
        "model.add(MaxPool2D(pool_size=(2,2),strides=(2,2)))\n",
        "model.add(Flatten())\n",
        "model.add(Dense(units=4096,activation=\"relu\"))\n",
        "model.add(Dense(units=4096,activation=\"relu\"))\n",
        "model.add(Dense(units=28, activation=\"softmax\"))\n",
        "from keras.optimizers import Adam\n",
        "opt = Adam(lr=0.001)\n",
        "model.compile(optimizer=opt, loss=tf.keras.losses.categorical_crossentropy, metrics=['accuracy'])\n",
        "model.summary()\n",
        "\n",
        "MODEL_PATH = 'saved-models/cnn'"
      ],
      "metadata": {
        "colab": {
          "base_uri": "https://localhost:8080/"
        },
        "id": "A54OAWKMZSm1",
        "outputId": "7b2d69f2-d705-4c80-df53-12b36ffa8f46"
      },
      "execution_count": 105,
      "outputs": [
        {
          "output_type": "stream",
          "name": "stdout",
          "text": [
            "Model: \"sequential_3\"\n",
            "_________________________________________________________________\n",
            " Layer (type)                Output Shape              Param #   \n",
            "=================================================================\n",
            " conv2d_36 (Conv2D)          (None, 32, 32, 64)        1792      \n",
            "                                                                 \n",
            " conv2d_37 (Conv2D)          (None, 32, 32, 64)        36928     \n",
            "                                                                 \n",
            " batch_normalization_15 (Bat  (None, 32, 32, 64)       256       \n",
            " chNormalization)                                                \n",
            "                                                                 \n",
            " max_pooling2d_15 (MaxPoolin  (None, 16, 16, 64)       0         \n",
            " g2D)                                                            \n",
            "                                                                 \n",
            " conv2d_38 (Conv2D)          (None, 16, 16, 128)       73856     \n",
            "                                                                 \n",
            " conv2d_39 (Conv2D)          (None, 16, 16, 128)       147584    \n",
            "                                                                 \n",
            " batch_normalization_16 (Bat  (None, 16, 16, 128)      512       \n",
            " chNormalization)                                                \n",
            "                                                                 \n",
            " max_pooling2d_16 (MaxPoolin  (None, 8, 8, 128)        0         \n",
            " g2D)                                                            \n",
            "                                                                 \n",
            " conv2d_40 (Conv2D)          (None, 8, 8, 256)         295168    \n",
            "                                                                 \n",
            " conv2d_41 (Conv2D)          (None, 8, 8, 256)         590080    \n",
            "                                                                 \n",
            " conv2d_42 (Conv2D)          (None, 8, 8, 256)         590080    \n",
            "                                                                 \n",
            " batch_normalization_17 (Bat  (None, 8, 8, 256)        1024      \n",
            " chNormalization)                                                \n",
            "                                                                 \n",
            " max_pooling2d_17 (MaxPoolin  (None, 4, 4, 256)        0         \n",
            " g2D)                                                            \n",
            "                                                                 \n",
            " conv2d_43 (Conv2D)          (None, 4, 4, 512)         1180160   \n",
            "                                                                 \n",
            " conv2d_44 (Conv2D)          (None, 4, 4, 512)         2359808   \n",
            "                                                                 \n",
            " conv2d_45 (Conv2D)          (None, 4, 4, 512)         2359808   \n",
            "                                                                 \n",
            " batch_normalization_18 (Bat  (None, 4, 4, 512)        2048      \n",
            " chNormalization)                                                \n",
            "                                                                 \n",
            " max_pooling2d_18 (MaxPoolin  (None, 2, 2, 512)        0         \n",
            " g2D)                                                            \n",
            "                                                                 \n",
            " conv2d_46 (Conv2D)          (None, 2, 2, 512)         2359808   \n",
            "                                                                 \n",
            " conv2d_47 (Conv2D)          (None, 2, 2, 512)         2359808   \n",
            "                                                                 \n",
            " last_conv (Conv2D)          (None, 2, 2, 512)         2359808   \n",
            "                                                                 \n",
            " batch_normalization_19 (Bat  (None, 2, 2, 512)        2048      \n",
            " chNormalization)                                                \n",
            "                                                                 \n",
            " max_pooling2d_19 (MaxPoolin  (None, 1, 1, 512)        0         \n",
            " g2D)                                                            \n",
            "                                                                 \n",
            " flatten_3 (Flatten)         (None, 512)               0         \n",
            "                                                                 \n",
            " dense_9 (Dense)             (None, 4096)              2101248   \n",
            "                                                                 \n",
            " dense_10 (Dense)            (None, 4096)              16781312  \n",
            "                                                                 \n",
            " dense_11 (Dense)            (None, 28)                114716    \n",
            "                                                                 \n",
            "=================================================================\n",
            "Total params: 33,717,852\n",
            "Trainable params: 33,714,908\n",
            "Non-trainable params: 2,944\n",
            "_________________________________________________________________\n"
          ]
        },
        {
          "output_type": "stream",
          "name": "stderr",
          "text": [
            "/usr/local/lib/python3.10/dist-packages/keras/optimizers/legacy/adam.py:117: UserWarning: The `lr` argument is deprecated, use `learning_rate` instead.\n",
            "  super().__init__(name, **kwargs)\n"
          ]
        }
      ]
    },
    {
      "cell_type": "code",
      "source": [
        "from keras.callbacks import ModelCheckpoint\n",
        "\n",
        "checkpoint = ModelCheckpoint(MODEL_PATH,\n",
        "                            save_weights_only=True,\n",
        "                            save_best_only=True,\n",
        "                            verbose=1)\n",
        "history = model.fit(\n",
        "    train_gen,\n",
        "    validation_data=val_gen,\n",
        "    epochs=50,\n",
        "    callbacks=[checkpoint],\n",
        ")"
      ],
      "metadata": {
        "colab": {
          "base_uri": "https://localhost:8080/"
        },
        "id": "B8uH3fLSctvG",
        "outputId": "f412e8d0-078f-4308-ce65-76951f7e29f6"
      },
      "execution_count": 106,
      "outputs": [
        {
          "output_type": "stream",
          "name": "stdout",
          "text": [
            "Epoch 1/50\n",
            "419/420 [============================>.] - ETA: 0s - loss: 2.6928 - accuracy: 0.1357\n",
            "Epoch 1: val_loss improved from inf to 4.24538, saving model to saved-models/cnn\n",
            "420/420 [==============================] - 20s 42ms/step - loss: 2.6911 - accuracy: 0.1363 - val_loss: 4.2454 - val_accuracy: 0.0780\n",
            "Epoch 2/50\n",
            "419/420 [============================>.] - ETA: 0s - loss: 2.0575 - accuracy: 0.2653\n",
            "Epoch 2: val_loss improved from 4.24538 to 3.20622, saving model to saved-models/cnn\n",
            "420/420 [==============================] - 18s 42ms/step - loss: 2.0568 - accuracy: 0.2656 - val_loss: 3.2062 - val_accuracy: 0.1988\n",
            "Epoch 3/50\n",
            "419/420 [============================>.] - ETA: 0s - loss: 1.8734 - accuracy: 0.3287\n",
            "Epoch 3: val_loss did not improve from 3.20622\n",
            "420/420 [==============================] - 17s 41ms/step - loss: 1.8727 - accuracy: 0.3288 - val_loss: 3.4232 - val_accuracy: 0.1732\n",
            "Epoch 4/50\n",
            "420/420 [==============================] - ETA: 0s - loss: 1.3929 - accuracy: 0.4978\n",
            "Epoch 4: val_loss improved from 3.20622 to 2.64344, saving model to saved-models/cnn\n",
            "420/420 [==============================] - 17s 41ms/step - loss: 1.3929 - accuracy: 0.4978 - val_loss: 2.6434 - val_accuracy: 0.3063\n",
            "Epoch 5/50\n",
            "419/420 [============================>.] - ETA: 0s - loss: 1.2648 - accuracy: 0.5446\n",
            "Epoch 5: val_loss did not improve from 2.64344\n",
            "420/420 [==============================] - 16s 38ms/step - loss: 1.2652 - accuracy: 0.5446 - val_loss: 6.0262 - val_accuracy: 0.0872\n",
            "Epoch 6/50\n",
            "419/420 [============================>.] - ETA: 0s - loss: 1.0649 - accuracy: 0.6033\n",
            "Epoch 6: val_loss improved from 2.64344 to 0.97157, saving model to saved-models/cnn\n",
            "420/420 [==============================] - 19s 45ms/step - loss: 1.0642 - accuracy: 0.6036 - val_loss: 0.9716 - val_accuracy: 0.6509\n",
            "Epoch 7/50\n",
            "419/420 [============================>.] - ETA: 0s - loss: 0.8455 - accuracy: 0.6958\n",
            "Epoch 7: val_loss did not improve from 0.97157\n",
            "420/420 [==============================] - 16s 38ms/step - loss: 0.8461 - accuracy: 0.6958 - val_loss: 172.1886 - val_accuracy: 0.4161\n",
            "Epoch 8/50\n",
            "420/420 [==============================] - ETA: 0s - loss: 0.7513 - accuracy: 0.7385\n",
            "Epoch 8: val_loss did not improve from 0.97157\n",
            "420/420 [==============================] - 16s 38ms/step - loss: 0.7513 - accuracy: 0.7385 - val_loss: 2.0962 - val_accuracy: 0.4003\n",
            "Epoch 9/50\n",
            "419/420 [============================>.] - ETA: 0s - loss: 0.7433 - accuracy: 0.7418\n",
            "Epoch 9: val_loss improved from 0.97157 to 0.91017, saving model to saved-models/cnn\n",
            "420/420 [==============================] - 17s 41ms/step - loss: 0.7428 - accuracy: 0.7421 - val_loss: 0.9102 - val_accuracy: 0.6560\n",
            "Epoch 10/50\n",
            "420/420 [==============================] - ETA: 0s - loss: 0.5366 - accuracy: 0.8273\n",
            "Epoch 10: val_loss improved from 0.91017 to 0.80191, saving model to saved-models/cnn\n",
            "420/420 [==============================] - 17s 41ms/step - loss: 0.5366 - accuracy: 0.8273 - val_loss: 0.8019 - val_accuracy: 0.7452\n",
            "Epoch 11/50\n",
            "420/420 [==============================] - ETA: 0s - loss: 0.4300 - accuracy: 0.8667\n",
            "Epoch 11: val_loss improved from 0.80191 to 0.44170, saving model to saved-models/cnn\n",
            "420/420 [==============================] - 17s 41ms/step - loss: 0.4300 - accuracy: 0.8667 - val_loss: 0.4417 - val_accuracy: 0.8643\n",
            "Epoch 12/50\n",
            "419/420 [============================>.] - ETA: 0s - loss: 0.3721 - accuracy: 0.8866\n",
            "Epoch 12: val_loss did not improve from 0.44170\n",
            "420/420 [==============================] - 16s 38ms/step - loss: 0.3725 - accuracy: 0.8865 - val_loss: 0.7215 - val_accuracy: 0.7699\n",
            "Epoch 13/50\n",
            "419/420 [============================>.] - ETA: 0s - loss: 0.3199 - accuracy: 0.9009\n",
            "Epoch 13: val_loss did not improve from 0.44170\n",
            "420/420 [==============================] - 16s 38ms/step - loss: 0.3197 - accuracy: 0.9010 - val_loss: 0.5415 - val_accuracy: 0.8399\n",
            "Epoch 14/50\n",
            "419/420 [============================>.] - ETA: 0s - loss: 0.2764 - accuracy: 0.9134\n",
            "Epoch 14: val_loss did not improve from 0.44170\n",
            "420/420 [==============================] - 16s 38ms/step - loss: 0.2766 - accuracy: 0.9132 - val_loss: 0.4534 - val_accuracy: 0.8696\n",
            "Epoch 15/50\n",
            "419/420 [============================>.] - ETA: 0s - loss: 0.2687 - accuracy: 0.9203\n",
            "Epoch 15: val_loss improved from 0.44170 to 0.33738, saving model to saved-models/cnn\n",
            "420/420 [==============================] - 18s 42ms/step - loss: 0.2685 - accuracy: 0.9203 - val_loss: 0.3374 - val_accuracy: 0.9042\n",
            "Epoch 16/50\n",
            "419/420 [============================>.] - ETA: 0s - loss: 0.2267 - accuracy: 0.9327\n",
            "Epoch 16: val_loss improved from 0.33738 to 0.30295, saving model to saved-models/cnn\n",
            "420/420 [==============================] - 18s 42ms/step - loss: 0.2269 - accuracy: 0.9327 - val_loss: 0.3029 - val_accuracy: 0.9125\n",
            "Epoch 17/50\n",
            "419/420 [============================>.] - ETA: 0s - loss: 0.1929 - accuracy: 0.9424\n",
            "Epoch 17: val_loss improved from 0.30295 to 0.30125, saving model to saved-models/cnn\n",
            "420/420 [==============================] - 17s 41ms/step - loss: 0.1928 - accuracy: 0.9424 - val_loss: 0.3013 - val_accuracy: 0.9202\n",
            "Epoch 18/50\n",
            "419/420 [============================>.] - ETA: 0s - loss: 0.1823 - accuracy: 0.9489\n",
            "Epoch 18: val_loss did not improve from 0.30125\n",
            "420/420 [==============================] - 17s 41ms/step - loss: 0.1822 - accuracy: 0.9490 - val_loss: 1.1723 - val_accuracy: 0.8307\n",
            "Epoch 19/50\n",
            "419/420 [============================>.] - ETA: 0s - loss: 0.1492 - accuracy: 0.9567\n",
            "Epoch 19: val_loss did not improve from 0.30125\n",
            "420/420 [==============================] - 16s 38ms/step - loss: 0.1491 - accuracy: 0.9567 - val_loss: 2.3590 - val_accuracy: 0.8738\n",
            "Epoch 20/50\n",
            "419/420 [============================>.] - ETA: 0s - loss: 0.1503 - accuracy: 0.9539\n",
            "Epoch 20: val_loss did not improve from 0.30125\n",
            "420/420 [==============================] - 16s 38ms/step - loss: 0.1504 - accuracy: 0.9539 - val_loss: 0.4127 - val_accuracy: 0.9033\n",
            "Epoch 21/50\n",
            "420/420 [==============================] - ETA: 0s - loss: 0.1443 - accuracy: 0.9594\n",
            "Epoch 21: val_loss did not improve from 0.30125\n",
            "420/420 [==============================] - 16s 38ms/step - loss: 0.1443 - accuracy: 0.9594 - val_loss: 0.3197 - val_accuracy: 0.9187\n",
            "Epoch 22/50\n",
            "419/420 [============================>.] - ETA: 0s - loss: 0.1232 - accuracy: 0.9623\n",
            "Epoch 22: val_loss did not improve from 0.30125\n",
            "420/420 [==============================] - 18s 44ms/step - loss: 0.1230 - accuracy: 0.9623 - val_loss: 0.3567 - val_accuracy: 0.9232\n",
            "Epoch 23/50\n",
            "419/420 [============================>.] - ETA: 0s - loss: 0.1306 - accuracy: 0.9620\n",
            "Epoch 23: val_loss did not improve from 0.30125\n",
            "420/420 [==============================] - 16s 38ms/step - loss: 0.1304 - accuracy: 0.9621 - val_loss: 0.4380 - val_accuracy: 0.8908\n",
            "Epoch 24/50\n",
            "420/420 [==============================] - ETA: 0s - loss: 0.1139 - accuracy: 0.9685\n",
            "Epoch 24: val_loss did not improve from 0.30125\n",
            "420/420 [==============================] - 17s 41ms/step - loss: 0.1139 - accuracy: 0.9685 - val_loss: 0.3398 - val_accuracy: 0.9125\n",
            "Epoch 25/50\n",
            "420/420 [==============================] - ETA: 0s - loss: 0.1014 - accuracy: 0.9718\n",
            "Epoch 25: val_loss did not improve from 0.30125\n",
            "420/420 [==============================] - 16s 38ms/step - loss: 0.1014 - accuracy: 0.9718 - val_loss: 0.3092 - val_accuracy: 0.9238\n",
            "Epoch 26/50\n",
            "419/420 [============================>.] - ETA: 0s - loss: 0.1202 - accuracy: 0.9655\n",
            "Epoch 26: val_loss improved from 0.30125 to 0.29777, saving model to saved-models/cnn\n",
            "420/420 [==============================] - 19s 44ms/step - loss: 0.1202 - accuracy: 0.9655 - val_loss: 0.2978 - val_accuracy: 0.9348\n",
            "Epoch 27/50\n",
            "419/420 [============================>.] - ETA: 0s - loss: 0.1020 - accuracy: 0.9726\n",
            "Epoch 27: val_loss improved from 0.29777 to 0.28352, saving model to saved-models/cnn\n",
            "420/420 [==============================] - 18s 42ms/step - loss: 0.1020 - accuracy: 0.9725 - val_loss: 0.2835 - val_accuracy: 0.9366\n",
            "Epoch 28/50\n",
            "419/420 [============================>.] - ETA: 0s - loss: 0.0739 - accuracy: 0.9799\n",
            "Epoch 28: val_loss did not improve from 0.28352\n",
            "420/420 [==============================] - 16s 38ms/step - loss: 0.0739 - accuracy: 0.9798 - val_loss: 0.3524 - val_accuracy: 0.9235\n",
            "Epoch 29/50\n",
            "419/420 [============================>.] - ETA: 0s - loss: 0.0715 - accuracy: 0.9803\n",
            "Epoch 29: val_loss did not improve from 0.28352\n",
            "420/420 [==============================] - 16s 38ms/step - loss: 0.0717 - accuracy: 0.9802 - val_loss: 0.3918 - val_accuracy: 0.9134\n",
            "Epoch 30/50\n",
            "419/420 [============================>.] - ETA: 0s - loss: 0.0845 - accuracy: 0.9772\n",
            "Epoch 30: val_loss did not improve from 0.28352\n",
            "420/420 [==============================] - 17s 41ms/step - loss: 0.0851 - accuracy: 0.9771 - val_loss: 0.3679 - val_accuracy: 0.9042\n",
            "Epoch 31/50\n",
            "420/420 [==============================] - ETA: 0s - loss: 0.0698 - accuracy: 0.9818\n",
            "Epoch 31: val_loss did not improve from 0.28352\n",
            "420/420 [==============================] - 16s 38ms/step - loss: 0.0698 - accuracy: 0.9818 - val_loss: 0.3196 - val_accuracy: 0.9295\n",
            "Epoch 32/50\n",
            "419/420 [============================>.] - ETA: 0s - loss: 0.0718 - accuracy: 0.9814\n",
            "Epoch 32: val_loss did not improve from 0.28352\n",
            "420/420 [==============================] - 16s 38ms/step - loss: 0.0719 - accuracy: 0.9813 - val_loss: 0.4365 - val_accuracy: 0.9065\n",
            "Epoch 33/50\n",
            "419/420 [============================>.] - ETA: 0s - loss: 0.0867 - accuracy: 0.9760\n",
            "Epoch 33: val_loss did not improve from 0.28352\n",
            "420/420 [==============================] - 16s 37ms/step - loss: 0.0865 - accuracy: 0.9760 - val_loss: 0.4712 - val_accuracy: 0.8890\n",
            "Epoch 34/50\n",
            "419/420 [============================>.] - ETA: 0s - loss: 0.0721 - accuracy: 0.9811\n",
            "Epoch 34: val_loss did not improve from 0.28352\n",
            "420/420 [==============================] - 16s 37ms/step - loss: 0.0719 - accuracy: 0.9811 - val_loss: 0.3095 - val_accuracy: 0.9301\n",
            "Epoch 35/50\n",
            "419/420 [============================>.] - ETA: 0s - loss: 0.0705 - accuracy: 0.9820\n",
            "Epoch 35: val_loss did not improve from 0.28352\n",
            "420/420 [==============================] - 16s 39ms/step - loss: 0.0704 - accuracy: 0.9820 - val_loss: 0.2927 - val_accuracy: 0.9396\n",
            "Epoch 36/50\n",
            "420/420 [==============================] - ETA: 0s - loss: 0.0603 - accuracy: 0.9833\n",
            "Epoch 36: val_loss did not improve from 0.28352\n",
            "420/420 [==============================] - 16s 38ms/step - loss: 0.0603 - accuracy: 0.9833 - val_loss: 0.3041 - val_accuracy: 0.9446\n",
            "Epoch 37/50\n",
            "419/420 [============================>.] - ETA: 0s - loss: 0.0804 - accuracy: 0.9796\n",
            "Epoch 37: val_loss did not improve from 0.28352\n",
            "420/420 [==============================] - 16s 38ms/step - loss: 0.0803 - accuracy: 0.9796 - val_loss: 0.2841 - val_accuracy: 0.9342\n",
            "Epoch 38/50\n",
            "419/420 [============================>.] - ETA: 0s - loss: 0.0602 - accuracy: 0.9849\n",
            "Epoch 38: val_loss did not improve from 0.28352\n",
            "420/420 [==============================] - 17s 41ms/step - loss: 0.0603 - accuracy: 0.9848 - val_loss: 0.3278 - val_accuracy: 0.9378\n",
            "Epoch 39/50\n",
            "419/420 [============================>.] - ETA: 0s - loss: 0.0535 - accuracy: 0.9854\n",
            "Epoch 39: val_loss did not improve from 0.28352\n",
            "420/420 [==============================] - 16s 38ms/step - loss: 0.0535 - accuracy: 0.9854 - val_loss: 0.3129 - val_accuracy: 0.9452\n",
            "Epoch 40/50\n",
            "419/420 [============================>.] - ETA: 0s - loss: 0.0566 - accuracy: 0.9857\n",
            "Epoch 40: val_loss did not improve from 0.28352\n",
            "420/420 [==============================] - 16s 38ms/step - loss: 0.0565 - accuracy: 0.9857 - val_loss: 0.3530 - val_accuracy: 0.9318\n",
            "Epoch 41/50\n",
            "419/420 [============================>.] - ETA: 0s - loss: 0.0531 - accuracy: 0.9861\n",
            "Epoch 41: val_loss improved from 0.28352 to 0.27159, saving model to saved-models/cnn\n",
            "420/420 [==============================] - 18s 42ms/step - loss: 0.0531 - accuracy: 0.9861 - val_loss: 0.2716 - val_accuracy: 0.9420\n",
            "Epoch 42/50\n",
            "419/420 [============================>.] - ETA: 0s - loss: 0.0537 - accuracy: 0.9859\n",
            "Epoch 42: val_loss did not improve from 0.27159\n",
            "420/420 [==============================] - 16s 38ms/step - loss: 0.0535 - accuracy: 0.9859 - val_loss: 0.2952 - val_accuracy: 0.9432\n",
            "Epoch 43/50\n",
            "420/420 [==============================] - ETA: 0s - loss: 0.0437 - accuracy: 0.9879\n",
            "Epoch 43: val_loss did not improve from 0.27159\n",
            "420/420 [==============================] - 17s 41ms/step - loss: 0.0437 - accuracy: 0.9879 - val_loss: 1.1091 - val_accuracy: 0.9289\n",
            "Epoch 44/50\n",
            "420/420 [==============================] - ETA: 0s - loss: 0.0382 - accuracy: 0.9894\n",
            "Epoch 44: val_loss improved from 0.27159 to 0.24191, saving model to saved-models/cnn\n",
            "420/420 [==============================] - 17s 41ms/step - loss: 0.0382 - accuracy: 0.9894 - val_loss: 0.2419 - val_accuracy: 0.9470\n",
            "Epoch 45/50\n",
            "420/420 [==============================] - ETA: 0s - loss: 0.0513 - accuracy: 0.9879\n",
            "Epoch 45: val_loss did not improve from 0.24191\n",
            "420/420 [==============================] - 16s 38ms/step - loss: 0.0513 - accuracy: 0.9879 - val_loss: 0.3694 - val_accuracy: 0.9304\n",
            "Epoch 46/50\n",
            "419/420 [============================>.] - ETA: 0s - loss: 0.0516 - accuracy: 0.9875\n",
            "Epoch 46: val_loss did not improve from 0.24191\n",
            "420/420 [==============================] - 16s 38ms/step - loss: 0.0516 - accuracy: 0.9874 - val_loss: 0.3454 - val_accuracy: 0.9336\n",
            "Epoch 47/50\n",
            "419/420 [============================>.] - ETA: 0s - loss: 0.0380 - accuracy: 0.9905\n",
            "Epoch 47: val_loss did not improve from 0.24191\n",
            "420/420 [==============================] - 16s 38ms/step - loss: 0.0380 - accuracy: 0.9904 - val_loss: 0.3665 - val_accuracy: 0.9339\n",
            "Epoch 48/50\n",
            "419/420 [============================>.] - ETA: 0s - loss: 0.0419 - accuracy: 0.9891\n",
            "Epoch 48: val_loss did not improve from 0.24191\n",
            "420/420 [==============================] - 16s 38ms/step - loss: 0.0418 - accuracy: 0.9891 - val_loss: 0.3959 - val_accuracy: 0.9256\n",
            "Epoch 49/50\n",
            "419/420 [============================>.] - ETA: 0s - loss: 0.0418 - accuracy: 0.9884\n",
            "Epoch 49: val_loss did not improve from 0.24191\n",
            "420/420 [==============================] - 17s 41ms/step - loss: 0.0418 - accuracy: 0.9884 - val_loss: 0.2881 - val_accuracy: 0.9455\n",
            "Epoch 50/50\n",
            "419/420 [============================>.] - ETA: 0s - loss: 0.0512 - accuracy: 0.9883\n",
            "Epoch 50: val_loss did not improve from 0.24191\n",
            "420/420 [==============================] - 16s 38ms/step - loss: 0.0511 - accuracy: 0.9883 - val_loss: 0.3019 - val_accuracy: 0.9330\n"
          ]
        }
      ]
    },
    {
      "cell_type": "code",
      "source": [
        "print(MODEL_PATH)\n",
        "model.load_weights(MODEL_PATH)\n",
        "model.evaluate(test_gen)"
      ],
      "metadata": {
        "colab": {
          "base_uri": "https://localhost:8080/"
        },
        "id": "3uSsIeR5gNtb",
        "outputId": "93bcb7b7-a7fd-49d3-f876-e98a0581310e"
      },
      "execution_count": 107,
      "outputs": [
        {
          "output_type": "stream",
          "name": "stdout",
          "text": [
            "saved-models/cnn\n",
            "105/105 [==============================] - 2s 17ms/step - loss: 0.2419 - accuracy: 0.9470\n"
          ]
        },
        {
          "output_type": "execute_result",
          "data": {
            "text/plain": [
              "[0.24190787971019745, 0.9470238089561462]"
            ]
          },
          "metadata": {},
          "execution_count": 107
        }
      ]
    },
    {
      "cell_type": "code",
      "source": [
        "from tensorflow import keras\n",
        "model.save('ModelCnn')\n",
        "model = keras.models.load_model('ModelCnn')\n",
        "model.evaluate(test_gen)"
      ],
      "metadata": {
        "colab": {
          "base_uri": "https://localhost:8080/"
        },
        "id": "eyZpVMNYrp7P",
        "outputId": "ead66d20-01c1-4373-e2fe-bdf13e4a33c2"
      },
      "execution_count": 108,
      "outputs": [
        {
          "output_type": "stream",
          "name": "stderr",
          "text": [
            "WARNING:absl:Found untraced functions such as _jit_compiled_convolution_op, _jit_compiled_convolution_op, _jit_compiled_convolution_op, _jit_compiled_convolution_op, _jit_compiled_convolution_op while saving (showing 5 of 13). These functions will not be directly callable after loading.\n"
          ]
        },
        {
          "output_type": "stream",
          "name": "stdout",
          "text": [
            "105/105 [==============================] - 2s 17ms/step - loss: 0.2419 - accuracy: 0.9470\n"
          ]
        },
        {
          "output_type": "execute_result",
          "data": {
            "text/plain": [
              "[0.2419080138206482, 0.9470238089561462]"
            ]
          },
          "metadata": {},
          "execution_count": 108
        }
      ]
    },
    {
      "cell_type": "code",
      "source": [
        "acc = history.history['accuracy']\n",
        "val_acc = history.history['val_accuracy']\n",
        "loss = history.history['loss']\n",
        "val_loss = history.history['val_loss']\n",
        "epochs = range(1, len(loss) + 1)\n",
        "\n",
        "plt.figure(figsize=(16, 4))\n",
        "\n",
        "plt.subplot(1, 2, 1)\n",
        "plt.plot(epochs, acc, label='Training Accuracy')\n",
        "plt.plot(epochs, val_acc, label='Validation Accuracy')\n",
        "plt.ylabel('Accuracy')\n",
        "plt.xlabel('Epoch')\n",
        "plt.legend(loc='lower right')\n",
        "plt.title('Training and Validation Accuracy')\n",
        "\n",
        "plt.subplot(1, 2, 2)\n",
        "plt.plot(epochs, loss, label='Training Loss')\n",
        "plt.plot(epochs, val_loss, label='Validation Loss')\n",
        "plt.ylabel('Loss')\n",
        "plt.xlabel('Epoch')\n",
        "plt.legend(loc='upper right')\n",
        "plt.title('Training and Validation Loss')\n",
        "plt.show()"
      ],
      "metadata": {
        "colab": {
          "base_uri": "https://localhost:8080/",
          "height": 300
        },
        "id": "4xCt2VUltKc_",
        "outputId": "66475ef2-5554-46c8-a079-686ae3d992d9"
      },
      "execution_count": 109,
      "outputs": [
        {
          "output_type": "display_data",
          "data": {
            "text/plain": [
              "<Figure size 1600x400 with 2 Axes>"
            ],
            "image/png": "[encoded data removed]"
          },
          "metadata": {}
        }
      ]
    },
    {
      "cell_type": "code",
      "source": [
        "def grad_cam_heatmap(image, last_conv_layer_name='last_conv'):\n",
        "    \n",
        "    if model.layers[0].__class__.__name__ == 'Functional':\n",
        "        last_conv_layer_idx = 0\n",
        "        last_conv_layer_model = model.layers[0]\n",
        "    else:\n",
        "        last_conv_layer = model.get_layer(last_conv_layer_name)\n",
        "        last_conv_layer_idx = model.layers.index(last_conv_layer)\n",
        "        last_conv_layer_model = tf.keras.Model(model.inputs, last_conv_layer.output)\n",
        "\n",
        "\n",
        "    classifier_input = tf.keras.Input(shape=last_conv_layer_model.output.shape[1:])\n",
        "    x = classifier_input\n",
        "    classifier_layers = model.layers[last_conv_layer_idx+1:]\n",
        "    for layer in classifier_layers:\n",
        "        x = layer(x)\n",
        "    classifier_model = tf.keras.Model(classifier_input, x)\n",
        "\n",
        "\n",
        "    with tf.GradientTape() as tape:\n",
        "        # Compute activations of the last conv layer and make the tape watch it\n",
        "        last_conv_layer_output = last_conv_layer_model(image)\n",
        "        tape.watch(last_conv_layer_output)\n",
        "        # Compute class predictions\n",
        "        preds = classifier_model(last_conv_layer_output)\n",
        "        top_pred_index = tf.argmax(preds[0])\n",
        "        top_class_channel = preds[:, top_pred_index]\n",
        "        print(CLASSES[top_pred_index])\n",
        "\n",
        "    # This is the gradient of the top predicted class with regard to\n",
        "    # the output feature map of the last conv layer\n",
        "    grads = tape.gradient(top_class_channel, last_conv_layer_output)\n",
        "\n",
        "\n",
        "    # This is a vector where each entry is the mean intensity of the gradient\n",
        "    # over a specific feature map channel\n",
        "    pooled_grads = tf.reduce_mean(grads, axis=(0, 1, 2))\n",
        "\n",
        "    # We multiply each channel in the feature map array\n",
        "    # by \"how important this channel is\" with regard to the top predicted class\n",
        "    last_conv_layer_output = last_conv_layer_output.numpy()[0]\n",
        "    pooled_grads = pooled_grads.numpy()\n",
        "    for i in range(pooled_grads.shape[-1]):\n",
        "        last_conv_layer_output[:, :, i] *= pooled_grads[i]\n",
        "\n",
        "    # The channel-wise mean of the resulting feature map\n",
        "    # is our heatmap of class activation\n",
        "    heatmap = np.mean(last_conv_layer_output, axis=-1)\n",
        "\n",
        "    # For visualization purpose, we will also normalize the heatmap between 0 & 1\n",
        "    heatmap = np.maximum(heatmap, 0) / np.max(heatmap)\n",
        "\n",
        "    return heatmap"
      ],
      "metadata": {
        "id": "7ZyFKHJjwFUK"
      },
      "execution_count": 110,
      "outputs": []
    },
    {
      "cell_type": "code",
      "source": [
        "import matplotlib.cm as cm\n",
        "\n",
        "def grad_cam(img, last_conv_layer_name='last_conv'):\n",
        "    colors = cm.jet(np.arange(256))[:, :3]\n",
        "    gc_mask = grad_cam_heatmap(np.expand_dims(img, 0), last_conv_layer_name)\n",
        "    gc_mask_uint8 = (gc_mask*255.0).astype('uint8')\n",
        "    heatmap = colors[gc_mask_uint8]\n",
        "    heatmap = cv2.resize(heatmap, (img_dim, img_dim))\n",
        "    heatmap = (heatmap*255).astype('uint8')\n",
        "    img_uint8 = img.astype('uint8')\n",
        "    img_overlay = cv2.addWeighted(src1=img_uint8, alpha=0.6, src2=heatmap, beta=0.4, gamma=0.0)\n",
        "    plt.imshow(img_overlay)\n",
        "    plt.show()"
      ],
      "metadata": {
        "id": "ODk4nWZPwHlZ"
      },
      "execution_count": 111,
      "outputs": []
    },
    {
      "cell_type": "code",
      "source": [
        "img = val_gen[3][0][8]\n",
        "grad_cam(img)"
      ],
      "metadata": {
        "colab": {
          "base_uri": "https://localhost:8080/",
          "height": 447
        },
        "id": "JGEGhlsSwQu8",
        "outputId": "227f5632-a749-43f3-d13c-182448507abd"
      },
      "execution_count": 113,
      "outputs": [
        {
          "output_type": "stream",
          "name": "stdout",
          "text": [
            "ج\n"
          ]
        },
        {
          "output_type": "display_data",
          "data": {
            "text/plain": [
              "<Figure size 640x480 with 1 Axes>"
            ],
            "image/png": "[encoded data removed]"
          },
          "metadata": {}
        }
      ]
    }
  ]
}